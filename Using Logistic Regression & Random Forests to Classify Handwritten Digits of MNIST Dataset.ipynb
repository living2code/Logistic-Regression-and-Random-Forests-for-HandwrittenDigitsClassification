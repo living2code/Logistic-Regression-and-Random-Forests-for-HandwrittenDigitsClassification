{
 "cells": [
  {
   "cell_type": "code",
   "execution_count": 72,
   "metadata": {},
   "outputs": [],
   "source": [
    "import numpy as np\n",
    "import matplotlib as plt\n",
    "from keras.datasets import mnist\n",
    "from sklearn.linear_model import LogisticRegression \n",
    "from sklearn.ensemble import RandomForestClassifier\n",
    "import pickle\n",
    "import time"
   ]
  },
  {
   "cell_type": "code",
   "execution_count": 91,
   "metadata": {},
   "outputs": [],
   "source": [
    "# Preprocess the training data and testing data\n",
    "def preProcess(x_training,x_testing):\n",
    "    x_training=np.reshape(x_training,(x_training.shape[0],784))\n",
    "    x_training = x_training/255.0\n",
    "    x_testing=np.reshape(x_testing, (x_testing.shape[0],784))\n",
    "    x_testing =x_testing /255.0\n",
    "    \n",
    "    return x_training,x_testing"
   ]
  },
  {
   "cell_type": "code",
   "execution_count": 125,
   "metadata": {},
   "outputs": [],
   "source": [
    "#Modeling Logistic Regression as a function \n",
    "def mlModelLR(xDataTrain,yDataTrain,xDataTest,yDataTest):\n",
    "    lr=LogisticRegression(solver='lbfgs',max_iter=150)\n",
    "    learnedLRModel=lr.fit(xDataTrain,yDataTrain)\n",
    "    predictionsLR=lr.predict(xDataTest)\n",
    "    accuracyLR=lr.score(xDataTest,yDataTest)\n",
    "    print(\"Accuracy of the Trained Logistic Regression Model is %2.2f percent\" % (accuracyLR*100))\n",
    "    return learnedLRModel,predictionsLR"
   ]
  },
  {
   "cell_type": "code",
   "execution_count": 126,
   "metadata": {},
   "outputs": [],
   "source": [
    "#Modeling RandomForest classifier as a function\n",
    "def mlModelRF(xDataTrain,yDataTrain,xDataTest,yDataTest):\n",
    "    rf=RandomForestClassifier(n_estimators=150)\n",
    "    learnedRFModel=rf.fit(xDataTrain,yDataTrain)\n",
    "    predictionsRF=rf.predict(xDataTest)\n",
    "    accuracyRF=rf.score(xDataTest,yDataTest)\n",
    "    print(\"Accuracy of the Trained Random Forest Model is %2.2f percent\" % (accuracyRF*100))\n",
    "    return learnedRFModel,predictionsRF"
   ]
  },
  {
   "cell_type": "code",
   "execution_count": 96,
   "metadata": {},
   "outputs": [],
   "source": [
    "def saveModel(modelName,learnedModel):\n",
    "    filename = modelName+'.sav'\n",
    "    pickle.dump(learnedModel, open(filename, 'wb'))"
   ]
  },
  {
   "cell_type": "code",
   "execution_count": 97,
   "metadata": {},
   "outputs": [],
   "source": [
    "def oneHotEncoding(final_predictions):\n",
    "    oneHotEnc_final_pred=np.zeros((final_predictions.shape[0],10),dtype=int)\n",
    "    i=0\n",
    "    for pred in final_predictions:\n",
    "        oneHotEnc_final_pred[i][pred]=1\n",
    "        i+=1\n",
    "    return oneHotEnc_final_pred"
   ]
  },
  {
   "cell_type": "code",
   "execution_count": 98,
   "metadata": {},
   "outputs": [],
   "source": [
    "def exportToCSV(oneHCPred,modelName):\n",
    "    np.savetxt(modelName+\".csv\",oneHCPred,delimiter=\",\",fmt='%d')"
   ]
  },
  {
   "cell_type": "code",
   "execution_count": 106,
   "metadata": {},
   "outputs": [],
   "source": [
    "def main():\n",
    "    print(\"This Script has the MNIST Dataset preloaded. To perform ML on this dataset\")\n",
    "    option=input('Enter the option for model you want to choose \\n 1.Logistic Regression 2.Random Forest \\n')\n",
    "    save_model=input('Enter 1 if you want to save model: ')\n",
    "    if save_model!='1':\n",
    "        print(\"Not Saving the ML model\")\n",
    "    #preprocess data\n",
    "    ((x_training,y_training),(x_testing,y_testing))=mnist.load_data()\n",
    "    \n",
    "    startTime=time.time()\n",
    "    x_training,x_testing=preProcess(x_training,x_testing) \n",
    "    #select the ML model\n",
    "    #make a prediction\n",
    "    #print the score\n",
    "    #display misclassified images\n",
    "    if(option=='1'):\n",
    "        print('Performing Logistic Regression')\n",
    "        lrModel,lrPredictions=mlModelLR(x_training,y_training,x_testing,y_testing)\n",
    "        oneHCPred=oneHotEncoding(lrPredictions)\n",
    "        exportToCSV(oneHCPred,'lr')\n",
    "        if save_model=='1':\n",
    "            saveModel('LogisticRegressionModelPkl',lrModel)\n",
    "        endTime=time.time()-startTime\n",
    "        print(\"time taken for Logistic Regression model=\",endTime)\n",
    "    if(option =='2'):\n",
    "        print('Performing Random Forest')\n",
    "        rfModel,rfPredictions=mlModelRF(x_training,y_training,x_testing,y_testing)\n",
    "        oneHCPred=oneHotEncoding(rfPredictions)\n",
    "        exportToCSV(oneHCPred,'rf')\n",
    "        if save_model=='1':\n",
    "            saveModel('RandomForestModelPkl',rfModel)\n",
    "        endTime=time.time()-startTime\n",
    "        print(\"time taken for Random Forest model=\",endTime)\n",
    "    elif(option!='1' or option!='2'):\n",
    "        print(\"Invalid Choice\")\n",
    "    \n",
    "        \n",
    "        \n",
    "                 "
   ]
  },
  {
   "cell_type": "code",
   "execution_count": 123,
   "metadata": {},
   "outputs": [
    {
     "name": "stdout",
     "output_type": "stream",
     "text": [
      "This Script has the MNIST Dataset preloaded. To perform ML on this dataset\n",
      "Enter the option for model you want to choose \n",
      " 1.Logistic Regression 2.Random Forest \n",
      "3\n",
      "Enter 1 if you want to save model: 1\n",
      "Invalid Choice\n"
     ]
    }
   ],
   "source": [
    "if __name__==\"__main__\":\n",
    "    main()\n",
    "    "
   ]
  },
  {
   "cell_type": "code",
   "execution_count": 102,
   "metadata": {},
   "outputs": [
    {
     "data": {
      "text/plain": [
       "'\\nFuture Work: Want to Make it visually appeaking by plotting some training examples\\nand also some testing examples along with their labels.\\nalso a separate section for the testing images where the model mispredicts the Labels.\\nRandom Training Images\\nRandom Testing Images\\nRamdom Mispredicted Images to give a holistic comparision of the chosen ML Models\\nLater extending this to a Conv Neural Net\\n'"
      ]
     },
     "execution_count": 102,
     "metadata": {},
     "output_type": "execute_result"
    }
   ],
   "source": [
    "'''\n",
    "Future Work: Want to Make it visually appeaking by plotting some training examples\n",
    "and also some testing examples along with their labels.\n",
    "also a separate section for the testing images where the model mispredicts the Labels.\n",
    "Random Training Images\n",
    "Random Testing Images\n",
    "Ramdom Mispredicted Images to give a holistic comparision of the chosen ML Models\n",
    "Later extending this to a Conv Neural Net\n",
    "'''"
   ]
  },
  {
   "cell_type": "code",
   "execution_count": null,
   "metadata": {},
   "outputs": [],
   "source": []
  },
  {
   "cell_type": "code",
   "execution_count": null,
   "metadata": {},
   "outputs": [],
   "source": []
  }
 ],
 "metadata": {
  "kernelspec": {
   "display_name": "Python 3",
   "language": "python",
   "name": "python3"
  },
  "language_info": {
   "codemirror_mode": {
    "name": "ipython",
    "version": 3
   },
   "file_extension": ".py",
   "mimetype": "text/x-python",
   "name": "python",
   "nbconvert_exporter": "python",
   "pygments_lexer": "ipython3",
   "version": "3.6.3"
  }
 },
 "nbformat": 4,
 "nbformat_minor": 2
}
